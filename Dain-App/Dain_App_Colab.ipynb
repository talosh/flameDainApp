{
  "nbformat": 4,
  "nbformat_minor": 0,
  "metadata": {
    "colab": {
      "name": "Dain-App Colab.ipynb",
      "provenance": [],
      "collapsed_sections": [],
      "toc_visible": true
    },
    "kernelspec": {
      "name": "python3",
      "display_name": "Python 3"
    },
    "accelerator": "GPU"
  },
  "cells": [
    {
      "cell_type": "markdown",
      "metadata": {
        "id": "cWpo9q7lkR8X"
      },
      "source": [
        "# Check what processor Colab made avaiable to you:"
      ]
    },
    {
      "cell_type": "code",
      "metadata": {
        "id": "IabsZDECZCDg"
      },
      "source": [
        "import torch\n",
        "torch.cuda.get_device_name(0)"
      ],
      "execution_count": null,
      "outputs": []
    },
    {
      "cell_type": "markdown",
      "metadata": {
        "id": "RqA5RLmRkdRN"
      },
      "source": [
        "# Clone the project"
      ]
    },
    {
      "cell_type": "code",
      "metadata": {
        "id": "xEobV2KCMX3H"
      },
      "source": [
        "!git clone https://github.com/BurguerJohn/Dain-App.git"
      ],
      "execution_count": null,
      "outputs": []
    },
    {
      "cell_type": "markdown",
      "metadata": {
        "id": "tBWM7qAOkrbJ"
      },
      "source": [
        "# Build Scripts\n",
        "This can take between 5 and 20 minutes.\n",
        "\n",
        "Colab may use pytorch < 1.7: Giving a error for the architecture >= 8.0 "
      ]
    },
    {
      "cell_type": "code",
      "metadata": {
        "id": "URLAK9tpMrnD"
      },
      "source": [
        "%%bash\n",
        "cd /content/Dain-App/my_package\n",
        "sh build.sh"
      ],
      "execution_count": null,
      "outputs": []
    },
    {
      "cell_type": "code",
      "metadata": {
        "id": "1rZ-ffN2Mr-v"
      },
      "source": [
        "%%bash\n",
        "cd /content/Dain-App/PWCNet/correlation_package_pytorch1_0\n",
        "sh build.sh"
      ],
      "execution_count": null,
      "outputs": []
    },
    {
      "cell_type": "markdown",
      "metadata": {
        "id": "CuoQJgZcaBSt"
      },
      "source": [
        "# Install packages:"
      ]
    },
    {
      "cell_type": "code",
      "metadata": {
        "id": "nqU0Clo5YAoK"
      },
      "source": [
        "!pip install PyQt5"
      ],
      "execution_count": null,
      "outputs": []
    },
    {
      "cell_type": "markdown",
      "metadata": {
        "id": "nelPNg-2ZY1w"
      },
      "source": [
        "#Run:\n",
        "Interpolation Mode 3 and 4 require a newer FFMPEG that Colab comes by default."
      ]
    },
    {
      "cell_type": "code",
      "metadata": {
        "id": "hv5G4rrNaSiE"
      },
      "source": [
        "%cd /content/Dain-App\n",
        "!python  my_design.py -cli -h"
      ],
      "execution_count": null,
      "outputs": []
    },
    {
      "cell_type": "code",
      "metadata": {
        "id": "ZaSHdzQWXobS"
      },
      "source": [
        "%cd /content/Dain-App\n",
        "!python  my_design.py -cli --input \"/content/Dain-App/example.mp4\" -o \"/content/Dain-App/example_folder/\" -on \"interpolated.mp4\" -m \"model_weights/best.pth\" -fh 2 --interpolations 2 --depth_awarenes 0 --loop 0 -p 0 --alpha 0 --check_scene_change 10 --png_compress 0 --crf 1 --pixel_upscale_downscale_before 1 --pixel_downscale_upscale_after 1 --pixel_upscale_after 1 --mute_ffmpeg 0 --split_size_x -1 --split_size_y -1 --split_pad 150 --half 0 --step_extract 1 --step_interpolate 1 --batch_size 1 --use_benchmark 0 --force_flow 1 --smooth_flow 0 --downscale -1 --fast_mode 0"
      ],
      "execution_count": null,
      "outputs": []
    }
  ]
}